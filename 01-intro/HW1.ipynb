{
 "cells": [
  {
   "cell_type": "code",
   "execution_count": 1,
   "id": "1579481a-2312-4418-b1fe-4bd9e2175c95",
   "metadata": {},
   "outputs": [],
   "source": [
    "import requests \n",
    "\n",
    "docs_url = 'https://github.com/DataTalksClub/llm-zoomcamp/blob/main/01-intro/documents.json?raw=1'\n",
    "docs_response = requests.get(docs_url)\n",
    "documents_raw = docs_response.json()\n",
    "\n",
    "documents = []\n",
    "\n",
    "for course in documents_raw:\n",
    "    course_name = course['course']\n",
    "\n",
    "    for doc in course['documents']:\n",
    "        doc['course'] = course_name\n",
    "        documents.append(doc)"
   ]
  },
  {
   "cell_type": "code",
   "execution_count": 4,
   "id": "0fe3a378-9a82-4e5d-a73c-aa0f3a6c791f",
   "metadata": {},
   "outputs": [],
   "source": [
    "from elasticsearch import Elasticsearch"
   ]
  },
  {
   "cell_type": "code",
   "execution_count": 8,
   "id": "32b93e9e-6b7a-4b4b-ab9b-17043a4854e8",
   "metadata": {},
   "outputs": [
    {
     "name": "stderr",
     "output_type": "stream",
     "text": [
      "/usr/local/python/3.10.13/lib/python3.10/site-packages/tqdm/auto.py:21: TqdmWarning: IProgress not found. Please update jupyter and ipywidgets. See https://ipywidgets.readthedocs.io/en/stable/user_install.html\n",
      "  from .autonotebook import tqdm as notebook_tqdm\n"
     ]
    }
   ],
   "source": [
    "from tqdm.auto import tqdm"
   ]
  },
  {
   "cell_type": "code",
   "execution_count": 5,
   "id": "66a3a5ee-c419-4b39-9708-adc3a2588921",
   "metadata": {},
   "outputs": [],
   "source": [
    "es_client = Elasticsearch('http://localhost:9200')"
   ]
  },
  {
   "cell_type": "code",
   "execution_count": 6,
   "id": "6ed58f7c-78a9-4b87-a2bc-b6f457d1324a",
   "metadata": {},
   "outputs": [
    {
     "data": {
      "text/plain": [
       "ObjectApiResponse({'acknowledged': True, 'shards_acknowledged': True, 'index': 'course-questions'})"
      ]
     },
     "execution_count": 6,
     "metadata": {},
     "output_type": "execute_result"
    }
   ],
   "source": [
    "index_settings = {\n",
    "    \"settings\": {\n",
    "        \"number_of_shards\": 1,\n",
    "        \"number_of_replicas\": 0\n",
    "    },\n",
    "    \"mappings\": {\n",
    "        \"properties\": {\n",
    "            \"text\": {\"type\": \"text\"},\n",
    "            \"section\": {\"type\": \"text\"},\n",
    "            \"question\": {\"type\": \"text\"},\n",
    "            \"course\": {\"type\": \"keyword\"} \n",
    "        }\n",
    "    }\n",
    "}\n",
    "\n",
    "index_name = \"course-questions\"\n",
    "\n",
    "es_client.indices.create(index=index_name, body = index_settings)"
   ]
  },
  {
   "cell_type": "code",
   "execution_count": 9,
   "id": "b73a7302-fe9a-4add-99c6-8c4d8e32d2b5",
   "metadata": {},
   "outputs": [
    {
     "name": "stderr",
     "output_type": "stream",
     "text": [
      "100%|███████████████████████████████████████████████████████████████████████████████████████████████████████████████████████████| 948/948 [00:21<00:00, 44.42it/s]\n"
     ]
    }
   ],
   "source": [
    "for doc in tqdm(documents):\n",
    "    es_client.index(index = index_name, document = doc)"
   ]
  },
  {
   "cell_type": "code",
   "execution_count": 10,
   "id": "21328247-cb3b-429b-a43d-a995d686ac1b",
   "metadata": {},
   "outputs": [],
   "source": [
    "query = \"How do I execute a command in a running docker container?\""
   ]
  },
  {
   "cell_type": "code",
   "execution_count": 17,
   "id": "30c03b2c-e2db-4a7c-9929-e42c5e6f2b61",
   "metadata": {},
   "outputs": [],
   "source": [
    "def elastic_search(query):\n",
    "\n",
    "    search_query = {\n",
    "        \"size\": 5,\n",
    "        \"query\": {\n",
    "            \"bool\": {\n",
    "                \"must\": {\n",
    "                    \"multi_match\": {\n",
    "                        \"query\": query,\n",
    "                        \"fields\": [\"question^4\", \"text\"],\n",
    "                        \"type\": \"best_fields\"\n",
    "                    }\n",
    "                }\n",
    "            }\n",
    "        }\n",
    "    }\n",
    "\n",
    "    response = es_client.search(index = index_name, body= search_query)\n",
    "    result_docs  = []\n",
    "\n",
    "    for hit in response['hits']['hits']:\n",
    "        result_docs.append(hit['_score'])\n",
    "\n",
    "    return result_docs"
   ]
  },
  {
   "cell_type": "code",
   "execution_count": 18,
   "id": "35853f75-a09d-4f36-8b01-2003c58479ec",
   "metadata": {},
   "outputs": [
    {
     "data": {
      "text/plain": [
       "[84.050095, 75.54128, 72.08518, 51.04628, 49.938507]"
      ]
     },
     "execution_count": 18,
     "metadata": {},
     "output_type": "execute_result"
    }
   ],
   "source": [
    "elastic_search(query)"
   ]
  },
  {
   "cell_type": "code",
   "execution_count": 21,
   "id": "a80637bd-596f-47cf-b5c0-14298bea236c",
   "metadata": {},
   "outputs": [],
   "source": [
    "def elastic_search(query):\n",
    "\n",
    "    search_query = {\n",
    "        \"size\": 3,\n",
    "        \"query\": {\n",
    "            \"bool\": {\n",
    "                \"must\": {\n",
    "                    \"multi_match\": {\n",
    "                        \"query\": query,\n",
    "                        \"fields\": [\"question^4\", \"text\"],\n",
    "                        \"type\": \"best_fields\"\n",
    "                    }\n",
    "                },\n",
    "                \"filter\": {\n",
    "                    \"term\": {\n",
    "                        \"course\": \"machine-learning-zoomcamp\"\n",
    "                    }\n",
    "                }\n",
    "            }\n",
    "        }\n",
    "    }\n",
    "\n",
    "    response = es_client.search(index = index_name, body= search_query)\n",
    "    result_docs  = []\n",
    "\n",
    "    for hit in response['hits']['hits']:\n",
    "        result_docs.append(hit['_source'])\n",
    "\n",
    "    return result_docs"
   ]
  },
  {
   "cell_type": "code",
   "execution_count": 23,
   "id": "a8849d39-8068-4946-9649-68ce675fa0d3",
   "metadata": {},
   "outputs": [],
   "source": [
    "results = elastic_search(query)"
   ]
  },
  {
   "cell_type": "code",
   "execution_count": 25,
   "id": "427c679b-a28c-4dec-b9d3-03f9526ee9f9",
   "metadata": {},
   "outputs": [
    {
     "data": {
      "text/plain": [
       "[{'text': 'Launch the container image in interactive mode and overriding the entrypoint, so that it starts a bash command.\\ndocker run -it --entrypoint bash <image>\\nIf the container is already running, execute a command in the specific container:\\ndocker ps (find the container-id)\\ndocker exec -it <container-id> bash\\n(Marcos MJD)',\n",
       "  'section': '5. Deploying Machine Learning Models',\n",
       "  'question': 'How do I debug a docker container?',\n",
       "  'course': 'machine-learning-zoomcamp'},\n",
       " {'text': \"You can copy files from your local machine into a Docker container using the docker cp command. Here's how to do it:\\nTo copy a file or directory from your local machine into a running Docker container, you can use the `docker cp command`. The basic syntax is as follows:\\ndocker cp /path/to/local/file_or_directory container_id:/path/in/container\\nHrithik Kumar Advani\",\n",
       "  'section': '5. Deploying Machine Learning Models',\n",
       "  'question': 'How do I copy files from my local machine to docker container?',\n",
       "  'course': 'machine-learning-zoomcamp'},\n",
       " {'text': 'You can copy files from your local machine into a Docker container using the docker cp command. Here\\'s how to do it:\\nIn the Dockerfile, you can provide the folder containing the files that you want to copy over. The basic syntax is as follows:\\nCOPY [\"src/predict.py\", \"models/xgb_model.bin\", \"./\"]\\t\\t\\t\\t\\t\\t\\t\\t\\t\\t\\tGopakumar Gopinathan',\n",
       "  'section': '5. Deploying Machine Learning Models',\n",
       "  'question': 'How do I copy files from a different folder into docker container’s working directory?',\n",
       "  'course': 'machine-learning-zoomcamp'}]"
      ]
     },
     "execution_count": 25,
     "metadata": {},
     "output_type": "execute_result"
    }
   ],
   "source": [
    "results"
   ]
  },
  {
   "cell_type": "code",
   "execution_count": 26,
   "id": "9d493ed2-4c45-44f7-a19a-165354580146",
   "metadata": {},
   "outputs": [],
   "source": [
    "context_template = \"\"\"\n",
    "Q: {question}\n",
    "A: {text}\n",
    "\"\"\".strip()\n",
    "\n",
    "# Assuming 'results' is the list of records from Elasticsearch\n",
    "formatted_contexts = []\n",
    "\n",
    "for record in results:\n",
    "    formatted_context = context_template.format(\n",
    "        question=record['question'],\n",
    "        text=record['text']\n",
    "    )\n",
    "    formatted_contexts.append(formatted_context)\n",
    "\n",
    "# Join all formatted contexts with two newline characters\n",
    "final_context = \"\\n\\n\".join(formatted_contexts)\n",
    "\n",
    "\n"
   ]
  },
  {
   "cell_type": "code",
   "execution_count": 27,
   "id": "c19f531c-6646-4035-8716-612771cb68a9",
   "metadata": {},
   "outputs": [
    {
     "name": "stdout",
     "output_type": "stream",
     "text": [
      "Q: How do I debug a docker container?\n",
      "A: Launch the container image in interactive mode and overriding the entrypoint, so that it starts a bash command.\n",
      "docker run -it --entrypoint bash <image>\n",
      "If the container is already running, execute a command in the specific container:\n",
      "docker ps (find the container-id)\n",
      "docker exec -it <container-id> bash\n",
      "(Marcos MJD)\n",
      "\n",
      "Q: How do I copy files from my local machine to docker container?\n",
      "A: You can copy files from your local machine into a Docker container using the docker cp command. Here's how to do it:\n",
      "To copy a file or directory from your local machine into a running Docker container, you can use the `docker cp command`. The basic syntax is as follows:\n",
      "docker cp /path/to/local/file_or_directory container_id:/path/in/container\n",
      "Hrithik Kumar Advani\n",
      "\n",
      "Q: How do I copy files from a different folder into docker container’s working directory?\n",
      "A: You can copy files from your local machine into a Docker container using the docker cp command. Here's how to do it:\n",
      "In the Dockerfile, you can provide the folder containing the files that you want to copy over. The basic syntax is as follows:\n",
      "COPY [\"src/predict.py\", \"models/xgb_model.bin\", \"./\"]\t\t\t\t\t\t\t\t\t\t\tGopakumar Gopinathan\n"
     ]
    }
   ],
   "source": [
    "print(final_context)"
   ]
  },
  {
   "cell_type": "code",
   "execution_count": 28,
   "id": "4d76c549-1cb0-4ac6-b370-3085e8397118",
   "metadata": {},
   "outputs": [],
   "source": [
    "prompt_template = \"\"\"\n",
    "You're a course teaching assistant. Answer the QUESTION based on the CONTEXT from the FAQ database.\n",
    "Use only the facts from the CONTEXT when answering the QUESTION.\n",
    "\n",
    "QUESTION: {question}\n",
    "\n",
    "CONTEXT:\n",
    "{context}\n",
    "\"\"\".strip()"
   ]
  },
  {
   "cell_type": "code",
   "execution_count": 29,
   "id": "f31ebc9c-21d4-44bd-95c0-df45c445676a",
   "metadata": {},
   "outputs": [],
   "source": [
    "prompt = prompt_template.format(question=query, context=final_context).strip()"
   ]
  },
  {
   "cell_type": "code",
   "execution_count": 31,
   "id": "4d8b3f76-cb7f-48a6-bdb7-ffa7d31b8cc5",
   "metadata": {},
   "outputs": [
    {
     "data": {
      "text/plain": [
       "1462"
      ]
     },
     "execution_count": 31,
     "metadata": {},
     "output_type": "execute_result"
    }
   ],
   "source": [
    "len(prompt)"
   ]
  },
  {
   "cell_type": "code",
   "execution_count": 35,
   "id": "e6c212e2-2670-45ed-a67c-fe77e9d23594",
   "metadata": {},
   "outputs": [],
   "source": [
    "import tiktoken"
   ]
  },
  {
   "cell_type": "code",
   "execution_count": 36,
   "id": "12fc150e-4cf1-4689-a945-0b812db296ec",
   "metadata": {},
   "outputs": [],
   "source": [
    "encoding = tiktoken.encoding_for_model(\"gpt-4o\")"
   ]
  },
  {
   "cell_type": "code",
   "execution_count": 38,
   "id": "63ffb627-8168-4fdf-9c7b-30f525189c25",
   "metadata": {},
   "outputs": [
    {
     "data": {
      "text/plain": [
       "322"
      ]
     },
     "execution_count": 38,
     "metadata": {},
     "output_type": "execute_result"
    }
   ],
   "source": [
    "len(encoding.encode(prompt))"
   ]
  },
  {
   "cell_type": "code",
   "execution_count": 39,
   "id": "7bff99aa-516f-4618-8bd8-4fd7aad22132",
   "metadata": {},
   "outputs": [],
   "source": [
    "import os\n",
    "from openai import OpenAI"
   ]
  },
  {
   "cell_type": "code",
   "execution_count": 40,
   "id": "722270bd-4578-4a4e-a90f-f13d75baf406",
   "metadata": {},
   "outputs": [],
   "source": [
    "os.environ[\"OPENAI_API_KEY\"] = \"sk-\""
   ]
  },
  {
   "cell_type": "code",
   "execution_count": 41,
   "id": "88a8b086-6f70-4a68-bc9d-60c63bba5322",
   "metadata": {},
   "outputs": [],
   "source": [
    "api_key = os.environ.get('OPENAI_API_KEY')"
   ]
  },
  {
   "cell_type": "code",
   "execution_count": 44,
   "id": "73376eb7-35ba-404a-a931-d51a6d29ea2c",
   "metadata": {},
   "outputs": [],
   "source": [
    "client = OpenAI(api_key=api_key)"
   ]
  },
  {
   "cell_type": "code",
   "execution_count": 45,
   "id": "b03ff402-7c09-4bfc-8af5-c1d9e5d2de8f",
   "metadata": {},
   "outputs": [],
   "source": [
    "def llm(prompt):\n",
    "    response = client.chat.completions.create(model=\"gpt-4o\", \n",
    "                                          messages = [{\"role\":\"user\", \"content\":prompt}])\n",
    "    \n",
    "    return response.choices[0].message.content"
   ]
  },
  {
   "cell_type": "code",
   "execution_count": 49,
   "id": "8b8e3121-ad73-43f8-914d-46692aacc99d",
   "metadata": {},
   "outputs": [],
   "source": [
    "response = (llm(prompt))"
   ]
  },
  {
   "cell_type": "code",
   "execution_count": 53,
   "id": "eaa73cfc-a9ec-43d4-bb0d-de0e07c183cc",
   "metadata": {},
   "outputs": [
    {
     "name": "stdout",
     "output_type": "stream",
     "text": [
      "To execute a command in a running Docker container, you can use the `docker exec` command. Here are the steps:\n",
      "\n",
      "1. List all running Docker containers to find the container ID for the specific container you want to execute a command in:\n",
      "   ```\n",
      "   docker ps\n",
      "   ```\n",
      "\n",
      "2. Execute a command inside the container using the container ID:\n",
      "   ```\n",
      "   docker exec -it <container-id> bash\n",
      "   ```\n",
      "\n",
      "Replace `<container-id>` with the actual ID of your running container. This command will open a bash shell in the specified container, where you can then execute your desired commands.\n"
     ]
    }
   ],
   "source": [
    "print(response)"
   ]
  },
  {
   "cell_type": "code",
   "execution_count": 50,
   "id": "334066d2-6520-4867-9b98-ffcd85cf950d",
   "metadata": {},
   "outputs": [
    {
     "data": {
      "text/plain": [
       "568"
      ]
     },
     "execution_count": 50,
     "metadata": {},
     "output_type": "execute_result"
    }
   ],
   "source": [
    "len(response)"
   ]
  },
  {
   "cell_type": "code",
   "execution_count": 51,
   "id": "77b788f7-397a-428e-8b47-5e2be1486ba6",
   "metadata": {},
   "outputs": [
    {
     "data": {
      "text/plain": [
       "122"
      ]
     },
     "execution_count": 51,
     "metadata": {},
     "output_type": "execute_result"
    }
   ],
   "source": [
    "len(encoding.encode(response))"
   ]
  },
  {
   "cell_type": "markdown",
   "id": "a13c91f9-b659-4262-b7a2-0f428eeadb70",
   "metadata": {},
   "source": [
    "To calculate the cost of running 1000 requests with the given information, let's break it down step by step:\n",
    "\n",
    "1. Calculate the total number of tokens:\n",
    "   - Input tokens per request: 322\n",
    "   - Output tokens per request: 122\n",
    "   - Total tokens per request: 322 + 122 = 444\n",
    "   - For 1000 requests: 444 * 1000 = 444,000 tokens\n",
    "\n",
    "2. Separate input and output tokens:\n",
    "   - Total input tokens: 322 * 1000 = 322,000\n",
    "   - Total output tokens: 122 * 1000 = 122,000\n",
    "\n",
    "3. Calculate the cost for input tokens:\n",
    "   - Price: $0.005 per 1K tokens\n",
    "   - Cost: (322,000 / 1000) * $0.005 = $1.61\n",
    "\n",
    "4. Calculate the cost for output tokens:\n",
    "   - Price: $0.015 per 1K tokens\n",
    "   - Cost: (122,000 / 1000) * $0.015 = $1.83\n",
    "\n",
    "5. Sum up the total cost:\n",
    "   - Total cost: $1.61 + $1.83 = $3.44\n",
    "\n",
    "Therefore, the cost to run 1000 requests with the given token counts and prices would be $3.44."
   ]
  },
  {
   "cell_type": "code",
   "execution_count": null,
   "id": "aac9478b-af2c-4865-b9c6-80da1b4e6a4b",
   "metadata": {},
   "outputs": [],
   "source": []
  }
 ],
 "metadata": {
  "kernelspec": {
   "display_name": "Python 3 (ipykernel)",
   "language": "python",
   "name": "python3"
  },
  "language_info": {
   "codemirror_mode": {
    "name": "ipython",
    "version": 3
   },
   "file_extension": ".py",
   "mimetype": "text/x-python",
   "name": "python",
   "nbconvert_exporter": "python",
   "pygments_lexer": "ipython3",
   "version": "3.10.13"
  }
 },
 "nbformat": 4,
 "nbformat_minor": 5
}
