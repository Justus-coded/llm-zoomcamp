{
 "cells": [
  {
   "cell_type": "code",
   "execution_count": 1,
   "id": "7f790cd5-b08f-4ed5-ab4c-857d154d1868",
   "metadata": {},
   "outputs": [],
   "source": [
    "import minsearch\n",
    "import json\n",
    "import os\n",
    "from openai import OpenAI"
   ]
  },
  {
   "cell_type": "code",
   "execution_count": 4,
   "id": "0491adeb-64e6-47c7-a22e-6b2c690ed5d5",
   "metadata": {},
   "outputs": [],
   "source": [
    "os.environ[\"OPENAI_API_KEY\"] = \"sk-\""
   ]
  },
  {
   "cell_type": "code",
   "execution_count": 5,
   "id": "f7cb983f-a602-478f-8049-f4e1c6d6f851",
   "metadata": {},
   "outputs": [],
   "source": [
    "api_key = os.environ.get('OPENAI_API_KEY')"
   ]
  },
  {
   "cell_type": "code",
   "execution_count": 12,
   "id": "78599cbf-3e63-4de2-9989-e510e1260484",
   "metadata": {},
   "outputs": [],
   "source": [
    "with open('documents.json','rt') as f_in:\n",
    "    docs_raw = json.load(f_in)"
   ]
  },
  {
   "cell_type": "code",
   "execution_count": 13,
   "id": "c4b10823-679f-4ef5-a960-5f6a7b4e0686",
   "metadata": {},
   "outputs": [],
   "source": [
    "documents =[]\n",
    "\n",
    "for course_dict in docs_raw:\n",
    "    for doc in course_dict['documents']:\n",
    "        doc['course'] = course_dict['course']\n",
    "        documents.append(doc)"
   ]
  },
  {
   "cell_type": "code",
   "execution_count": 6,
   "id": "d90b572e-fc41-4285-8beb-1a9761d65675",
   "metadata": {},
   "outputs": [],
   "source": [
    "client = OpenAI(api_key=api_key)"
   ]
  },
  {
   "cell_type": "code",
   "execution_count": 9,
   "id": "c7fe2877-8257-4e50-bcdd-efcf0f555cd1",
   "metadata": {},
   "outputs": [],
   "source": [
    "index = minsearch.Index(\n",
    "    text_fields = [\"question\", \"text\", \"section\"],\n",
    "    keyword_fields = [\"course\"]\n",
    ")"
   ]
  },
  {
   "cell_type": "code",
   "execution_count": 14,
   "id": "58eb6e98-f760-4077-affe-809222e51319",
   "metadata": {},
   "outputs": [
    {
     "data": {
      "text/plain": [
       "<minsearch.Index at 0x79d9db56f220>"
      ]
     },
     "execution_count": 14,
     "metadata": {},
     "output_type": "execute_result"
    }
   ],
   "source": [
    "index.fit(documents)"
   ]
  },
  {
   "cell_type": "code",
   "execution_count": 15,
   "id": "125af2a8-6b74-494f-94ae-a61bcaa5682c",
   "metadata": {},
   "outputs": [],
   "source": [
    "def search(query):\n",
    "    boost = {'question': 3.0, 'section':0.5}\n",
    "\n",
    "    results = index.search(query=query, filter_dict = {'course': 'data-engineering-zoomcamp'},\n",
    "             boost_dict = boost, \n",
    "             num_results = 5\n",
    "            \n",
    "            )\n",
    "    return results\n",
    "    "
   ]
  },
  {
   "cell_type": "code",
   "execution_count": 21,
   "id": "4582f89b-85a1-45bd-b645-7f1a982abba0",
   "metadata": {},
   "outputs": [],
   "source": [
    "def build_prompt(query, search_results):\n",
    "    prompt_template=\"\"\"\n",
    "You're a course teaching assistant. Answer the QUESTION based on the CONTEXT from the FAQ database.\n",
    "Use only the facts from the CONTEXT when answering the QUESTION.\n",
    "\n",
    "QUESTION: {question}\n",
    "\n",
    "CONTEXT: \n",
    "{context}\n",
    "\"\"\".strip()\n",
    "\n",
    "    context = \"\"\n",
    "\n",
    "    for doc in search_results:\n",
    "        context = context + f\"section: {doc['section']}\\nquestion:{doc['question']}\\nanswer:{doc['text']}\\n\\n\"\n",
    "\n",
    "    prompt = prompt_template.format(question=query, context=context).strip()\n",
    "\n",
    "    return prompt\n",
    "    "
   ]
  },
  {
   "cell_type": "code",
   "execution_count": 24,
   "id": "360a8aa4-0b7b-4195-b9a4-d0417b77c199",
   "metadata": {},
   "outputs": [],
   "source": [
    "def llm(prompt):\n",
    "    response = client.chat.completions.create(model=\"gpt-4o\", \n",
    "                                          messages = [{\"role\":\"user\", \"content\":prompt}])\n",
    "    \n",
    "    return response.choices[0].message.content"
   ]
  },
  {
   "cell_type": "code",
   "execution_count": 29,
   "id": "6e24be2d-3076-4b2f-af62-2779fa5847c0",
   "metadata": {},
   "outputs": [],
   "source": [
    "query = 'how do i run kafka'\n",
    "def rag(query):\n",
    "    search_results =search(query)\n",
    "    prompt = build_prompt(query, search_results)\n",
    "    answer = llm(prompt)\n",
    "\n",
    "    print (answer)"
   ]
  },
  {
   "cell_type": "code",
   "execution_count": 30,
   "id": "4b878db9-3d94-406d-9d2b-bdae3bd79be9",
   "metadata": {
    "scrolled": true
   },
   "outputs": [
    {
     "name": "stdout",
     "output_type": "stream",
     "text": [
      "To run Kafka, you can follow these steps based on the provided CONTEXT:\n",
      "\n",
      "**For Java-based Kafka:**\n",
      "\n",
      "In the project directory, you can run the producer/consumer/kstreams in the terminal using the following command:\n",
      "```sh\n",
      "java -cp build/libs/<jar_name>-1.0-SNAPSHOT.jar:out src/main/java/org/example/JsonProducer.java\n",
      "```\n",
      "\n",
      "**For Python-based Kafka:**\n",
      "\n",
      "1. **Create a virtual environment (only needed once):**\n",
      "   ```sh\n",
      "   python -m venv env\n",
      "   source env/bin/activate\n",
      "   pip install -r ../requirements.txt\n",
      "   ```\n",
      "\n",
      "2. **Activate the virtual environment (needed each time you work with the environment):**\n",
      "   ```sh\n",
      "   source env/bin/activate\n",
      "   ```\n",
      "\n",
      "3. **Deactivate the virtual environment when done:**\n",
      "   ```sh\n",
      "   deactivate\n",
      "   ```\n",
      "\n",
      "Note: For Windows, the activation command is slightly different:\n",
      "```sh\n",
      "env/Scripts/activate\n",
      "```\n",
      "\n",
      "Make sure that Docker images are up and running if your environment setup requires it.\n"
     ]
    }
   ],
   "source": [
    "rag(query)"
   ]
  },
  {
   "cell_type": "code",
   "execution_count": null,
   "id": "473bbcac-3964-4acb-9cde-5bf6d206c18e",
   "metadata": {},
   "outputs": [],
   "source": [
    "rag(\")"
   ]
  },
  {
   "cell_type": "code",
   "execution_count": 28,
   "id": "b95394da-ad97-4e7e-b805-60c5047c712d",
   "metadata": {},
   "outputs": [
    {
     "name": "stdout",
     "output_type": "stream",
     "text": [
      "To run Kafka components like producer, consumer, or KStreams in the terminal, you can follow these steps based on the language you are using.\n",
      "\n",
      "### Java Kafka:\n",
      "In the project directory, run:\n",
      "```\n",
      "java -cp build/libs/<jar_name>-1.0-SNAPSHOT.jar:out src/main/java/org/example/JsonProducer.java\n",
      "```\n",
      "\n",
      "### Python Kafka:\n",
      "1. **Create a virtual environment** (only once):\n",
      "    ```\n",
      "    python -m venv env\n",
      "    source env/bin/activate\n",
      "    pip install -r ../requirements.txt\n",
      "    ```\n",
      "   For subsequent activations (every time you need the virtual env):\n",
      "    ```\n",
      "    source env/bin/activate\n",
      "    ```\n",
      "   To deactivate:\n",
      "    ```\n",
      "    deactivate\n",
      "    ```\n",
      "   Note: On Windows, the activation command is slightly different:\n",
      "    ```\n",
      "    env\\Scripts\\activate\n",
      "    ```\n",
      "2. **Ensure Docker images are up and running** before running the Python files.\n",
      "\n",
      "By adhering to these steps, you should be able to successfully run your Kafka components.\n"
     ]
    }
   ],
   "source": [
    "print(answer)"
   ]
  },
  {
   "cell_type": "code",
   "execution_count": null,
   "id": "87e033b1-e2fd-4bca-abd9-5f5810d41a3e",
   "metadata": {},
   "outputs": [],
   "source": []
  }
 ],
 "metadata": {
  "kernelspec": {
   "display_name": "Python 3 (ipykernel)",
   "language": "python",
   "name": "python3"
  },
  "language_info": {
   "codemirror_mode": {
    "name": "ipython",
    "version": 3
   },
   "file_extension": ".py",
   "mimetype": "text/x-python",
   "name": "python",
   "nbconvert_exporter": "python",
   "pygments_lexer": "ipython3",
   "version": "3.10.13"
  }
 },
 "nbformat": 4,
 "nbformat_minor": 5
}
