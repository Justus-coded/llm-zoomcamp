{
 "cells": [
  {
   "cell_type": "code",
   "execution_count": 1,
   "id": "8e533843-d7eb-4b6a-8783-71d9b20a70d7",
   "metadata": {},
   "outputs": [],
   "source": [
    "from openai import OpenAI"
   ]
  },
  {
   "cell_type": "code",
   "execution_count": 2,
   "id": "e252e9bd-bc8e-4fc6-b295-4e6cbb8b2410",
   "metadata": {},
   "outputs": [],
   "source": [
    "import os"
   ]
  },
  {
   "cell_type": "code",
   "execution_count": 5,
   "id": "544db6ac-548a-4ea4-b33c-7bdab1367bf9",
   "metadata": {},
   "outputs": [],
   "source": [
    "api_key = os.environ.get('OPENAI_API_KEY')"
   ]
  },
  {
   "cell_type": "code",
   "execution_count": 6,
   "id": "3e2704c0-20ce-46cf-bfb6-5f47b3b9687f",
   "metadata": {},
   "outputs": [],
   "source": [
    "client = OpenAI(api_key=api_key)"
   ]
  },
  {
   "cell_type": "code",
   "execution_count": 11,
   "id": "6bf0f90a-1ee0-4829-a6a9-e7ed8b47de46",
   "metadata": {},
   "outputs": [],
   "source": [
    "response = client.chat.completions.create(model=\"gpt-3.5-turbo\", \n",
    "                                          messages = [{\"role\":\"user\", \"content\":\"is it too late to join the course\"}])"
   ]
  },
  {
   "cell_type": "code",
   "execution_count": 13,
   "id": "643e041f-2ac7-49a5-8918-12d2ea2a00f4",
   "metadata": {},
   "outputs": [
    {
     "data": {
      "text/plain": [
       "'It depends on the specific course and its scheduling. Some courses may have a set start and end date, while others may allow for enrollment at any time. It is best to contact the course provider or organization offering the course to inquire about joining after the official start date.'"
      ]
     },
     "execution_count": 13,
     "metadata": {},
     "output_type": "execute_result"
    }
   ],
   "source": [
    "response.choices[0].message.content"
   ]
  },
  {
   "cell_type": "code",
   "execution_count": null,
   "id": "c84d8f82-e3ac-4422-8375-cb981d55d76f",
   "metadata": {},
   "outputs": [],
   "source": []
  }
 ],
 "metadata": {
  "kernelspec": {
   "display_name": "Python 3 (ipykernel)",
   "language": "python",
   "name": "python3"
  },
  "language_info": {
   "codemirror_mode": {
    "name": "ipython",
    "version": 3
   },
   "file_extension": ".py",
   "mimetype": "text/x-python",
   "name": "python",
   "nbconvert_exporter": "python",
   "pygments_lexer": "ipython3",
   "version": "3.10.13"
  }
 },
 "nbformat": 4,
 "nbformat_minor": 5
}
